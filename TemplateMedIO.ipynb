{
 "cells": [
  {
   "cell_type": "code",
   "execution_count": 1,
   "metadata": {},
   "outputs": [],
   "source": [
    "import numpy as np\n",
    "import vtk\n",
    "import cv2\n",
    "import glob\n",
    "import MyMod as md\n",
    "import SimpleITK as sitk\n",
    "import pandas as pd\n",
    "from vtk.util import numpy_support\n",
    "from vtk.util.numpy_support import vtk_to_numpy\n",
    "\n",
    "import matplotlib.pyplot as plt\n",
    "%matplotlib inline"
   ]
  },
  {
   "cell_type": "code",
   "execution_count": 2,
   "metadata": {},
   "outputs": [],
   "source": [
    "class ExceptionProc(Exception):\n",
    "\tpass\n",
    "\t\t\n",
    "def loadDataList(DirName):\n",
    "\tFileList = glob.glob(DirName)\n",
    "\ttry:\n",
    "\t\tif (len(FileList) == 0):\n",
    "\t\t\traise MyException(\"No Files, Please find out DirName\");\n",
    "\texcept ExceptionProc as e:\n",
    "\t\tprint(e)\n",
    "\t\tprint(type(e))\n",
    "\telse:\n",
    "\t\treturn FileList\n",
    "\tfinally:\n",
    "\t\tprint(\"loadDataSet done...\")\n",
    "\t        \n",
    "def loadDataName(DirName, num):\n",
    "\t#FileList = glob.glob(DirName)\n",
    "\tFileList=loadDataList(DirName)\n",
    "\ttry:\n",
    "\t\tfilename = FileList[num]\n",
    "\texcept IndexError:\n",
    "\t\tprint(\"Missing Files...\");\n",
    "\telse:\n",
    "\t\treturn filename\n",
    "\tfinally:\n",
    "\t\tprint(\"loadDataSetName done...\")"
   ]
  },
  {
   "cell_type": "code",
   "execution_count": 4,
   "metadata": {},
   "outputs": [
    {
     "name": "stdout",
     "output_type": "stream",
     "text": [
      "loadDataSet done...\n",
      "loadDataSetName done...\n"
     ]
    }
   ],
   "source": [
    "DirName = 'Knee/*.mh*'\n",
    "filename = loadDataName(DirName, 1)\n",
    "img = sitk.ReadImage(filename)"
   ]
  },
  {
   "cell_type": "code",
   "execution_count": null,
   "metadata": {},
   "outputs": [],
   "source": []
  }
 ],
 "metadata": {
  "kernelspec": {
   "display_name": "Environment (conda_medpy36)",
   "language": "python",
   "name": "conda_medpy36"
  },
  "language_info": {
   "codemirror_mode": {
    "name": "ipython",
    "version": 3
   },
   "file_extension": ".py",
   "mimetype": "text/x-python",
   "name": "python",
   "nbconvert_exporter": "python",
   "pygments_lexer": "ipython3",
   "version": "3.6.8"
  }
 },
 "nbformat": 4,
 "nbformat_minor": 2
}
